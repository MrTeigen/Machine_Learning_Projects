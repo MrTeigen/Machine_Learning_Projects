{
 "cells": [
  {
   "cell_type": "code",
   "execution_count": 15,
   "metadata": {},
   "outputs": [],
   "source": [
    "import tensorflow as tf\n",
    "import pandas as pd\n",
    "\n",
    "from __future__ import absolute_import, division, print_function, unicode_literals"
   ]
  },
  {
   "cell_type": "code",
   "execution_count": 16,
   "metadata": {},
   "outputs": [],
   "source": [
    "training_df = pd.read_csv('https://storage.googleapis.com/download.tensorflow.org/data/iris_training.csv')\n",
    "test_df = pd.read_csv('https://storage.googleapis.com/download.tensorflow.org/data/iris_test.csv')"
   ]
  },
  {
   "cell_type": "code",
   "execution_count": 17,
   "metadata": {},
   "outputs": [],
   "source": [
    "training_df.columns = ['SepalLength', 'SepalWidth', 'PetalLength', 'PetalWidth', 'Species']"
   ]
  },
  {
   "cell_type": "code",
   "execution_count": 18,
   "metadata": {},
   "outputs": [
    {
     "data": {
      "text/html": [
       "<div>\n",
       "<style scoped>\n",
       "    .dataframe tbody tr th:only-of-type {\n",
       "        vertical-align: middle;\n",
       "    }\n",
       "\n",
       "    .dataframe tbody tr th {\n",
       "        vertical-align: top;\n",
       "    }\n",
       "\n",
       "    .dataframe thead th {\n",
       "        text-align: right;\n",
       "    }\n",
       "</style>\n",
       "<table border=\"1\" class=\"dataframe\">\n",
       "  <thead>\n",
       "    <tr style=\"text-align: right;\">\n",
       "      <th></th>\n",
       "      <th>SepalLength</th>\n",
       "      <th>SepalWidth</th>\n",
       "      <th>PetalLength</th>\n",
       "      <th>PetalWidth</th>\n",
       "      <th>Species</th>\n",
       "    </tr>\n",
       "  </thead>\n",
       "  <tbody>\n",
       "    <tr>\n",
       "      <th>0</th>\n",
       "      <td>6.4</td>\n",
       "      <td>2.8</td>\n",
       "      <td>5.6</td>\n",
       "      <td>2.2</td>\n",
       "      <td>2</td>\n",
       "    </tr>\n",
       "    <tr>\n",
       "      <th>1</th>\n",
       "      <td>5.0</td>\n",
       "      <td>2.3</td>\n",
       "      <td>3.3</td>\n",
       "      <td>1.0</td>\n",
       "      <td>1</td>\n",
       "    </tr>\n",
       "    <tr>\n",
       "      <th>2</th>\n",
       "      <td>4.9</td>\n",
       "      <td>2.5</td>\n",
       "      <td>4.5</td>\n",
       "      <td>1.7</td>\n",
       "      <td>2</td>\n",
       "    </tr>\n",
       "    <tr>\n",
       "      <th>3</th>\n",
       "      <td>4.9</td>\n",
       "      <td>3.1</td>\n",
       "      <td>1.5</td>\n",
       "      <td>0.1</td>\n",
       "      <td>0</td>\n",
       "    </tr>\n",
       "    <tr>\n",
       "      <th>4</th>\n",
       "      <td>5.7</td>\n",
       "      <td>3.8</td>\n",
       "      <td>1.7</td>\n",
       "      <td>0.3</td>\n",
       "      <td>0</td>\n",
       "    </tr>\n",
       "    <tr>\n",
       "      <th>...</th>\n",
       "      <td>...</td>\n",
       "      <td>...</td>\n",
       "      <td>...</td>\n",
       "      <td>...</td>\n",
       "      <td>...</td>\n",
       "    </tr>\n",
       "    <tr>\n",
       "      <th>115</th>\n",
       "      <td>5.5</td>\n",
       "      <td>2.6</td>\n",
       "      <td>4.4</td>\n",
       "      <td>1.2</td>\n",
       "      <td>1</td>\n",
       "    </tr>\n",
       "    <tr>\n",
       "      <th>116</th>\n",
       "      <td>5.7</td>\n",
       "      <td>3.0</td>\n",
       "      <td>4.2</td>\n",
       "      <td>1.2</td>\n",
       "      <td>1</td>\n",
       "    </tr>\n",
       "    <tr>\n",
       "      <th>117</th>\n",
       "      <td>4.4</td>\n",
       "      <td>2.9</td>\n",
       "      <td>1.4</td>\n",
       "      <td>0.2</td>\n",
       "      <td>0</td>\n",
       "    </tr>\n",
       "    <tr>\n",
       "      <th>118</th>\n",
       "      <td>4.8</td>\n",
       "      <td>3.0</td>\n",
       "      <td>1.4</td>\n",
       "      <td>0.1</td>\n",
       "      <td>0</td>\n",
       "    </tr>\n",
       "    <tr>\n",
       "      <th>119</th>\n",
       "      <td>5.5</td>\n",
       "      <td>2.4</td>\n",
       "      <td>3.7</td>\n",
       "      <td>1.0</td>\n",
       "      <td>1</td>\n",
       "    </tr>\n",
       "  </tbody>\n",
       "</table>\n",
       "<p>120 rows × 5 columns</p>\n",
       "</div>"
      ],
      "text/plain": [
       "     SepalLength  SepalWidth  PetalLength  PetalWidth  Species\n",
       "0            6.4         2.8          5.6         2.2        2\n",
       "1            5.0         2.3          3.3         1.0        1\n",
       "2            4.9         2.5          4.5         1.7        2\n",
       "3            4.9         3.1          1.5         0.1        0\n",
       "4            5.7         3.8          1.7         0.3        0\n",
       "..           ...         ...          ...         ...      ...\n",
       "115          5.5         2.6          4.4         1.2        1\n",
       "116          5.7         3.0          4.2         1.2        1\n",
       "117          4.4         2.9          1.4         0.2        0\n",
       "118          4.8         3.0          1.4         0.1        0\n",
       "119          5.5         2.4          3.7         1.0        1\n",
       "\n",
       "[120 rows x 5 columns]"
      ]
     },
     "execution_count": 18,
     "metadata": {},
     "output_type": "execute_result"
    }
   ],
   "source": [
    "training_df"
   ]
  },
  {
   "cell_type": "code",
   "execution_count": 19,
   "metadata": {},
   "outputs": [],
   "source": [
    "test_df.columns = ['SepalLength', 'SepalWidth', 'PetalLength', 'PetalWidth', 'Species']"
   ]
  },
  {
   "cell_type": "code",
   "execution_count": 20,
   "metadata": {},
   "outputs": [],
   "source": [
    "SPECIES = ['Setosa', 'Versicolor', 'Virginica']"
   ]
  },
  {
   "cell_type": "code",
   "execution_count": 21,
   "metadata": {},
   "outputs": [],
   "source": [
    "training_y = training_df.pop('Species')\n",
    "test_y = test_df.pop('Species')"
   ]
  },
  {
   "cell_type": "code",
   "execution_count": 22,
   "metadata": {},
   "outputs": [
    {
     "data": {
      "text/html": [
       "<div>\n",
       "<style scoped>\n",
       "    .dataframe tbody tr th:only-of-type {\n",
       "        vertical-align: middle;\n",
       "    }\n",
       "\n",
       "    .dataframe tbody tr th {\n",
       "        vertical-align: top;\n",
       "    }\n",
       "\n",
       "    .dataframe thead th {\n",
       "        text-align: right;\n",
       "    }\n",
       "</style>\n",
       "<table border=\"1\" class=\"dataframe\">\n",
       "  <thead>\n",
       "    <tr style=\"text-align: right;\">\n",
       "      <th></th>\n",
       "      <th>SepalLength</th>\n",
       "      <th>SepalWidth</th>\n",
       "      <th>PetalLength</th>\n",
       "      <th>PetalWidth</th>\n",
       "    </tr>\n",
       "  </thead>\n",
       "  <tbody>\n",
       "    <tr>\n",
       "      <th>0</th>\n",
       "      <td>6.4</td>\n",
       "      <td>2.8</td>\n",
       "      <td>5.6</td>\n",
       "      <td>2.2</td>\n",
       "    </tr>\n",
       "    <tr>\n",
       "      <th>1</th>\n",
       "      <td>5.0</td>\n",
       "      <td>2.3</td>\n",
       "      <td>3.3</td>\n",
       "      <td>1.0</td>\n",
       "    </tr>\n",
       "    <tr>\n",
       "      <th>2</th>\n",
       "      <td>4.9</td>\n",
       "      <td>2.5</td>\n",
       "      <td>4.5</td>\n",
       "      <td>1.7</td>\n",
       "    </tr>\n",
       "    <tr>\n",
       "      <th>3</th>\n",
       "      <td>4.9</td>\n",
       "      <td>3.1</td>\n",
       "      <td>1.5</td>\n",
       "      <td>0.1</td>\n",
       "    </tr>\n",
       "    <tr>\n",
       "      <th>4</th>\n",
       "      <td>5.7</td>\n",
       "      <td>3.8</td>\n",
       "      <td>1.7</td>\n",
       "      <td>0.3</td>\n",
       "    </tr>\n",
       "  </tbody>\n",
       "</table>\n",
       "</div>"
      ],
      "text/plain": [
       "   SepalLength  SepalWidth  PetalLength  PetalWidth\n",
       "0          6.4         2.8          5.6         2.2\n",
       "1          5.0         2.3          3.3         1.0\n",
       "2          4.9         2.5          4.5         1.7\n",
       "3          4.9         3.1          1.5         0.1\n",
       "4          5.7         3.8          1.7         0.3"
      ]
     },
     "execution_count": 22,
     "metadata": {},
     "output_type": "execute_result"
    }
   ],
   "source": [
    "training_df.head()"
   ]
  },
  {
   "cell_type": "code",
   "execution_count": 23,
   "metadata": {},
   "outputs": [],
   "source": [
    "def input_fn(features, labels, training=True, batch_size=256):\n",
    "    dataset = tf.data.Dataset.from_tensor_slices((dict(features), labels))\n",
    "    \n",
    "    if training:\n",
    "        dataset = dataset.shuffle(1000).repeat()\n",
    "    \n",
    "    return dataset.batch(batch_size)"
   ]
  },
  {
   "cell_type": "code",
   "execution_count": 24,
   "metadata": {},
   "outputs": [
    {
     "name": "stdout",
     "output_type": "stream",
     "text": [
      "[NumericColumn(key='SepalLength', shape=(1,), default_value=None, dtype=tf.float32, normalizer_fn=None), NumericColumn(key='SepalWidth', shape=(1,), default_value=None, dtype=tf.float32, normalizer_fn=None), NumericColumn(key='PetalLength', shape=(1,), default_value=None, dtype=tf.float32, normalizer_fn=None), NumericColumn(key='PetalWidth', shape=(1,), default_value=None, dtype=tf.float32, normalizer_fn=None)]\n"
     ]
    }
   ],
   "source": [
    "feature_columns = []\n",
    "for key in training_df.keys():\n",
    "    feature_columns.append(tf.feature_column.numeric_column(key=key))\n",
    "print(feature_columns)"
   ]
  },
  {
   "cell_type": "code",
   "execution_count": 25,
   "metadata": {},
   "outputs": [
    {
     "data": {
      "text/plain": [
       "'\\nWe can now choose a couple of models, but some of the main ones are: DNNClassifier and LinearClassifier.\\nDNNClassifier is often a better choice, as it groups regardless of linear coorespondence.\\n'"
      ]
     },
     "execution_count": 25,
     "metadata": {},
     "output_type": "execute_result"
    }
   ],
   "source": [
    "\"\"\"\n",
    "We can now choose a couple of models, but some of the main ones are: DNNClassifier and LinearClassifier.\n",
    "DNNClassifier is often a better choice, as it groups regardless of linear coorespondence.\n",
    "\"\"\""
   ]
  },
  {
   "cell_type": "code",
   "execution_count": 13,
   "metadata": {},
   "outputs": [
    {
     "name": "stdout",
     "output_type": "stream",
     "text": [
      "INFO:tensorflow:Using default config.\n",
      "WARNING:tensorflow:Using temporary folder as model directory: C:\\Users\\kissa\\AppData\\Local\\Temp\\tmpksozjxz4\n",
      "INFO:tensorflow:Using config: {'_model_dir': 'C:\\\\Users\\\\kissa\\\\AppData\\\\Local\\\\Temp\\\\tmpksozjxz4', '_tf_random_seed': None, '_save_summary_steps': 100, '_save_checkpoints_steps': None, '_save_checkpoints_secs': 600, '_session_config': allow_soft_placement: true\n",
      "graph_options {\n",
      "  rewrite_options {\n",
      "    meta_optimizer_iterations: ONE\n",
      "  }\n",
      "}\n",
      ", '_keep_checkpoint_max': 5, '_keep_checkpoint_every_n_hours': 10000, '_log_step_count_steps': 100, '_train_distribute': None, '_device_fn': None, '_protocol': None, '_eval_distribute': None, '_experimental_distribute': None, '_experimental_max_worker_delay_secs': None, '_session_creation_timeout_secs': 7200, '_checkpoint_save_graph_def': True, '_service': None, '_cluster_spec': ClusterSpec({}), '_task_type': 'worker', '_task_id': 0, '_global_id_in_cluster': 0, '_master': '', '_evaluation_master': '', '_is_chief': True, '_num_ps_replicas': 0, '_num_worker_replicas': 1}\n"
     ]
    }
   ],
   "source": [
    "classifier = tf.estimator.DNNClassifier(feature_columns=feature_columns,\n",
    "                                        hidden_units=[30, 10],\n",
    "                                        n_classes=3)"
   ]
  },
  {
   "cell_type": "code",
   "execution_count": 28,
   "metadata": {},
   "outputs": [
    {
     "name": "stdout",
     "output_type": "stream",
     "text": [
      "INFO:tensorflow:Calling model_fn.\n",
      "INFO:tensorflow:Done calling model_fn.\n",
      "INFO:tensorflow:Create CheckpointSaverHook.\n",
      "INFO:tensorflow:Graph was finalized.\n",
      "INFO:tensorflow:Restoring parameters from C:\\Users\\kissa\\AppData\\Local\\Temp\\tmpksozjxz4\\model.ckpt-5000\n",
      "WARNING:tensorflow:From c:\\Users\\kissa\\AppData\\Local\\Programs\\Python\\Virtual Environments\\TF-env\\lib\\site-packages\\tensorflow\\python\\training\\saver.py:1175: get_checkpoint_mtimes (from tensorflow.python.training.checkpoint_management) is deprecated and will be removed in a future version.\n",
      "Instructions for updating:\n",
      "Use standard file utilities to get mtimes.\n",
      "INFO:tensorflow:Running local_init_op.\n",
      "INFO:tensorflow:Done running local_init_op.\n",
      "INFO:tensorflow:Calling checkpoint listeners before saving checkpoint 5000...\n",
      "INFO:tensorflow:Saving checkpoints for 5000 into C:\\Users\\kissa\\AppData\\Local\\Temp\\tmpksozjxz4\\model.ckpt.\n",
      "INFO:tensorflow:C:\\Users\\kissa\\AppData\\Local\\Temp\\tmpksozjxz4\\model.ckpt-5000.data-00000-of-00001\n",
      "INFO:tensorflow:0\n",
      "INFO:tensorflow:C:\\Users\\kissa\\AppData\\Local\\Temp\\tmpksozjxz4\\model.ckpt-5000.index\n",
      "INFO:tensorflow:0\n",
      "INFO:tensorflow:C:\\Users\\kissa\\AppData\\Local\\Temp\\tmpksozjxz4\\model.ckpt-5000.meta\n",
      "INFO:tensorflow:100\n",
      "INFO:tensorflow:Calling checkpoint listeners after saving checkpoint 5000...\n",
      "INFO:tensorflow:loss = 0.5721051, step = 5000\n",
      "INFO:tensorflow:global_step/sec: 563.538\n",
      "INFO:tensorflow:loss = 0.5708155, step = 5100 (0.177 sec)\n",
      "INFO:tensorflow:global_step/sec: 720.3\n",
      "INFO:tensorflow:loss = 0.557088, step = 5200 (0.139 sec)\n",
      "INFO:tensorflow:global_step/sec: 752.853\n",
      "INFO:tensorflow:loss = 0.56068164, step = 5300 (0.133 sec)\n",
      "INFO:tensorflow:global_step/sec: 692.652\n",
      "INFO:tensorflow:loss = 0.56112766, step = 5400 (0.144 sec)\n",
      "INFO:tensorflow:global_step/sec: 598.185\n",
      "INFO:tensorflow:loss = 0.5547639, step = 5500 (0.168 sec)\n",
      "INFO:tensorflow:global_step/sec: 636.357\n",
      "INFO:tensorflow:loss = 0.5477835, step = 5600 (0.156 sec)\n",
      "INFO:tensorflow:global_step/sec: 685.277\n",
      "INFO:tensorflow:loss = 0.55022866, step = 5700 (0.146 sec)\n",
      "INFO:tensorflow:global_step/sec: 729.201\n",
      "INFO:tensorflow:loss = 0.53755, step = 5800 (0.137 sec)\n",
      "INFO:tensorflow:global_step/sec: 706.316\n",
      "INFO:tensorflow:loss = 0.53935665, step = 5900 (0.143 sec)\n",
      "INFO:tensorflow:global_step/sec: 758.416\n",
      "INFO:tensorflow:loss = 0.5312979, step = 6000 (0.131 sec)\n",
      "INFO:tensorflow:global_step/sec: 764.119\n",
      "INFO:tensorflow:loss = 0.5213398, step = 6100 (0.131 sec)\n",
      "INFO:tensorflow:global_step/sec: 722.838\n",
      "INFO:tensorflow:loss = 0.52365327, step = 6200 (0.139 sec)\n",
      "INFO:tensorflow:global_step/sec: 698.084\n",
      "INFO:tensorflow:loss = 0.53499305, step = 6300 (0.143 sec)\n",
      "INFO:tensorflow:global_step/sec: 733.453\n",
      "INFO:tensorflow:loss = 0.5225737, step = 6400 (0.135 sec)\n",
      "INFO:tensorflow:global_step/sec: 703.735\n",
      "INFO:tensorflow:loss = 0.5135668, step = 6500 (0.142 sec)\n",
      "INFO:tensorflow:global_step/sec: 749.737\n",
      "INFO:tensorflow:loss = 0.51572996, step = 6600 (0.133 sec)\n",
      "INFO:tensorflow:global_step/sec: 769.628\n",
      "INFO:tensorflow:loss = 0.51130974, step = 6700 (0.130 sec)\n",
      "INFO:tensorflow:global_step/sec: 751.7\n",
      "INFO:tensorflow:loss = 0.50142634, step = 6800 (0.133 sec)\n",
      "INFO:tensorflow:global_step/sec: 753.634\n",
      "INFO:tensorflow:loss = 0.4937713, step = 6900 (0.133 sec)\n",
      "INFO:tensorflow:global_step/sec: 720.818\n",
      "INFO:tensorflow:loss = 0.49539182, step = 7000 (0.139 sec)\n",
      "INFO:tensorflow:global_step/sec: 751.491\n",
      "INFO:tensorflow:loss = 0.48856312, step = 7100 (0.133 sec)\n",
      "INFO:tensorflow:global_step/sec: 559.089\n",
      "INFO:tensorflow:loss = 0.48692375, step = 7200 (0.180 sec)\n",
      "INFO:tensorflow:global_step/sec: 649.089\n",
      "INFO:tensorflow:loss = 0.4790109, step = 7300 (0.153 sec)\n",
      "INFO:tensorflow:global_step/sec: 652.543\n",
      "INFO:tensorflow:loss = 0.486376, step = 7400 (0.153 sec)\n",
      "INFO:tensorflow:global_step/sec: 665.038\n",
      "INFO:tensorflow:loss = 0.47958452, step = 7500 (0.150 sec)\n",
      "INFO:tensorflow:global_step/sec: 694.933\n",
      "INFO:tensorflow:loss = 0.47683647, step = 7600 (0.146 sec)\n",
      "INFO:tensorflow:global_step/sec: 723.775\n",
      "INFO:tensorflow:loss = 0.4714075, step = 7700 (0.136 sec)\n",
      "INFO:tensorflow:global_step/sec: 648.016\n",
      "INFO:tensorflow:loss = 0.46215388, step = 7800 (0.154 sec)\n",
      "INFO:tensorflow:global_step/sec: 789.586\n",
      "INFO:tensorflow:loss = 0.4673411, step = 7900 (0.127 sec)\n",
      "INFO:tensorflow:global_step/sec: 704.498\n",
      "INFO:tensorflow:loss = 0.46728894, step = 8000 (0.142 sec)\n",
      "INFO:tensorflow:global_step/sec: 703.808\n",
      "INFO:tensorflow:loss = 0.45095706, step = 8100 (0.143 sec)\n",
      "INFO:tensorflow:global_step/sec: 445.925\n",
      "INFO:tensorflow:loss = 0.47410816, step = 8200 (0.224 sec)\n",
      "INFO:tensorflow:global_step/sec: 480.956\n",
      "INFO:tensorflow:loss = 0.4597391, step = 8300 (0.208 sec)\n",
      "INFO:tensorflow:global_step/sec: 444.383\n",
      "INFO:tensorflow:loss = 0.4511271, step = 8400 (0.225 sec)\n",
      "INFO:tensorflow:global_step/sec: 631.87\n",
      "INFO:tensorflow:loss = 0.46066594, step = 8500 (0.158 sec)\n",
      "INFO:tensorflow:global_step/sec: 652.032\n",
      "INFO:tensorflow:loss = 0.44545972, step = 8600 (0.153 sec)\n",
      "INFO:tensorflow:global_step/sec: 693.639\n",
      "INFO:tensorflow:loss = 0.4376755, step = 8700 (0.144 sec)\n",
      "INFO:tensorflow:global_step/sec: 627.921\n",
      "INFO:tensorflow:loss = 0.44151896, step = 8800 (0.159 sec)\n",
      "INFO:tensorflow:global_step/sec: 642.191\n",
      "INFO:tensorflow:loss = 0.43986833, step = 8900 (0.157 sec)\n",
      "INFO:tensorflow:global_step/sec: 675.316\n",
      "INFO:tensorflow:loss = 0.43609363, step = 9000 (0.147 sec)\n",
      "INFO:tensorflow:global_step/sec: 615.133\n",
      "INFO:tensorflow:loss = 0.4326106, step = 9100 (0.163 sec)\n",
      "INFO:tensorflow:global_step/sec: 696.076\n",
      "INFO:tensorflow:loss = 0.42917097, step = 9200 (0.144 sec)\n",
      "INFO:tensorflow:global_step/sec: 634.603\n",
      "INFO:tensorflow:loss = 0.42753774, step = 9300 (0.157 sec)\n",
      "INFO:tensorflow:global_step/sec: 765.398\n",
      "INFO:tensorflow:loss = 0.42152286, step = 9400 (0.132 sec)\n",
      "INFO:tensorflow:global_step/sec: 714.697\n",
      "INFO:tensorflow:loss = 0.4224406, step = 9500 (0.140 sec)\n",
      "INFO:tensorflow:global_step/sec: 737.441\n",
      "INFO:tensorflow:loss = 0.4126809, step = 9600 (0.136 sec)\n",
      "INFO:tensorflow:global_step/sec: 735.283\n",
      "INFO:tensorflow:loss = 0.42394495, step = 9700 (0.136 sec)\n",
      "INFO:tensorflow:global_step/sec: 749.624\n",
      "INFO:tensorflow:loss = 0.41689098, step = 9800 (0.133 sec)\n",
      "INFO:tensorflow:global_step/sec: 699.052\n",
      "INFO:tensorflow:loss = 0.413885, step = 9900 (0.142 sec)\n",
      "INFO:tensorflow:Calling checkpoint listeners before saving checkpoint 10000...\n",
      "INFO:tensorflow:Saving checkpoints for 10000 into C:\\Users\\kissa\\AppData\\Local\\Temp\\tmpksozjxz4\\model.ckpt.\n",
      "INFO:tensorflow:C:\\Users\\kissa\\AppData\\Local\\Temp\\tmpksozjxz4\\model.ckpt-10000.data-00000-of-00001\n",
      "INFO:tensorflow:0\n",
      "INFO:tensorflow:C:\\Users\\kissa\\AppData\\Local\\Temp\\tmpksozjxz4\\model.ckpt-10000.index\n",
      "INFO:tensorflow:0\n",
      "INFO:tensorflow:C:\\Users\\kissa\\AppData\\Local\\Temp\\tmpksozjxz4\\model.ckpt-10000.meta\n",
      "INFO:tensorflow:100\n",
      "INFO:tensorflow:Calling checkpoint listeners after saving checkpoint 10000...\n",
      "INFO:tensorflow:Loss for final step: 0.41929036.\n"
     ]
    },
    {
     "data": {
      "text/plain": [
       "<tensorflow_estimator.python.estimator.canned.dnn.DNNClassifierV2 at 0x257ed181db0>"
      ]
     },
     "execution_count": 28,
     "metadata": {},
     "output_type": "execute_result"
    }
   ],
   "source": [
    "classifier.train(input_fn=lambda: input_fn(training_df, training_y, training=True), steps=5000)"
   ]
  },
  {
   "cell_type": "code",
   "execution_count": 29,
   "metadata": {},
   "outputs": [
    {
     "name": "stdout",
     "output_type": "stream",
     "text": [
      "INFO:tensorflow:Calling model_fn.\n",
      "INFO:tensorflow:Done calling model_fn.\n",
      "INFO:tensorflow:Starting evaluation at 2022-09-07T13:13:57\n",
      "INFO:tensorflow:Graph was finalized.\n",
      "INFO:tensorflow:Restoring parameters from C:\\Users\\kissa\\AppData\\Local\\Temp\\tmpksozjxz4\\model.ckpt-10000\n",
      "INFO:tensorflow:Running local_init_op.\n",
      "INFO:tensorflow:Done running local_init_op.\n",
      "INFO:tensorflow:Inference Time : 0.17124s\n",
      "INFO:tensorflow:Finished evaluation at 2022-09-07-13:13:57\n",
      "INFO:tensorflow:Saving dict for global step 10000: accuracy = 0.8333333, average_loss = 0.48578632, global_step = 10000, loss = 0.48578632\n",
      "INFO:tensorflow:Saving 'checkpoint_path' summary for global step 10000: C:\\Users\\kissa\\AppData\\Local\\Temp\\tmpksozjxz4\\model.ckpt-10000\n"
     ]
    },
    {
     "data": {
      "text/plain": [
       "{'accuracy': 0.8333333,\n",
       " 'average_loss': 0.48578632,\n",
       " 'loss': 0.48578632,\n",
       " 'global_step': 10000}"
      ]
     },
     "execution_count": 29,
     "metadata": {},
     "output_type": "execute_result"
    }
   ],
   "source": [
    "classifier.evaluate(input_fn=lambda: input_fn(test_df, test_y, training=False))"
   ]
  },
  {
   "cell_type": "code",
   "execution_count": 37,
   "metadata": {},
   "outputs": [
    {
     "name": "stdout",
     "output_type": "stream",
     "text": [
      "Please type numeric values as prompted.\n",
      "INFO:tensorflow:Calling model_fn.\n",
      "INFO:tensorflow:Done calling model_fn.\n",
      "INFO:tensorflow:Graph was finalized.\n",
      "INFO:tensorflow:Restoring parameters from C:\\Users\\kissa\\AppData\\Local\\Temp\\tmpksozjxz4\\model.ckpt-10000\n",
      "INFO:tensorflow:Running local_init_op.\n",
      "INFO:tensorflow:Done running local_init_op.\n",
      "{'logits': array([-7.8583016, -2.0832615,  3.4472613], dtype=float32), 'probabilities': array([1.2255555e-05, 3.9482173e-03, 9.9603951e-01], dtype=float32), 'class_ids': array([2], dtype=int64), 'classes': array([b'2'], dtype=object), 'all_class_ids': array([0, 1, 2]), 'all_classes': array([b'0', b'1', b'2'], dtype=object)}\n",
      "Prediction is \"Virginica\" (99.60395097732544)\n"
     ]
    }
   ],
   "source": [
    "def user_input_fn(features, batch_size=256):\n",
    "    return tf.data.Dataset.from_tensor_slices(dict(features)).batch(batch_size)\n",
    "\n",
    "features = ['SepalLength', 'SepalWidth', 'PetalLength', 'PetalWidth']\n",
    "predict = {}\n",
    "\n",
    "print('Please type numeric values as prompted.')\n",
    "for feature in features:\n",
    "    valid = True\n",
    "    while valid:\n",
    "        val = input(feature + ': ')\n",
    "        if not val.isdigit(): valid = False\n",
    "    \n",
    "    predict[feature] = [float(val)]\n",
    "\n",
    "predictions = classifier.predict(input_fn=lambda: user_input_fn(predict))\n",
    "for pred_dict in predictions:\n",
    "    print(pred_dict)\n",
    "    class_id = pred_dict['class_ids'][0]\n",
    "    probability = pred_dict['probabilities'][class_id]\n",
    "    \n",
    "    print(f'Prediction is \"{SPECIES[class_id]}\" ({100 * probability})')"
   ]
  },
  {
   "cell_type": "code",
   "execution_count": null,
   "metadata": {},
   "outputs": [],
   "source": []
  },
  {
   "cell_type": "code",
   "execution_count": null,
   "metadata": {},
   "outputs": [],
   "source": []
  }
 ],
 "metadata": {
  "kernelspec": {
   "display_name": "Python 3.10.6 ('TF-env')",
   "language": "python",
   "name": "python3"
  },
  "language_info": {
   "codemirror_mode": {
    "name": "ipython",
    "version": 3
   },
   "file_extension": ".py",
   "mimetype": "text/x-python",
   "name": "python",
   "nbconvert_exporter": "python",
   "pygments_lexer": "ipython3",
   "version": "3.10.6"
  },
  "orig_nbformat": 4,
  "vscode": {
   "interpreter": {
    "hash": "a5925b6e525560d6696dffd243f1260417a64c3895376502aa0fdd967de4e731"
   }
  }
 },
 "nbformat": 4,
 "nbformat_minor": 2
}
